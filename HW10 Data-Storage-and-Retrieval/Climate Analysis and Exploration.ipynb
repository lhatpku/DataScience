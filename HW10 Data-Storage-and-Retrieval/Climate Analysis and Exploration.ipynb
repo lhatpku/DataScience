{
 "cells": [
  {
   "cell_type": "markdown",
   "metadata": {},
   "source": [
    "# Summary"
   ]
  },
  {
   "cell_type": "markdown",
   "metadata": {},
   "source": [
    "## <span style=\"color:darkblue\">I - Precipitation Analysis</span>\n",
    "* Steps: \n",
    "   \n",
    "    * Use query to retrieve the last 12 months of precipitation data.\n",
    "    * Select only the date and prcp values.\n",
    "    * Load the query results into a DataFrame and set the index to the date column.\n",
    "        * Use the average to aggregate multiple observations in one day. \n",
    "    * Sort the DataFrame values by date.\n",
    "    * Plot the results using the DataFrame plot method.\n",
    "\n",
    "* Analysis Plot\n",
    "\n",
    "|Precipitation Analysis|\n",
    "|-----------|\n",
    "|<img src=\"Chart/Prcp_by_time.png\" /> |\n",
    "  \n",
    "  \n",
    "## <span style=\"color:darkblue\">II - Station Analysis</span>\n",
    "* Steps: \n",
    "    \n",
    "    * Use a query to calculate the total number of stations.\n",
    "    * Use a query to find the most active station.\n",
    "        * The most active station is USC00519281 with 2772 of observations\n",
    "    * Use a query to retrieve the last 12 months of temperature observation data (tobs) for the most active station and plot the results as a histogram.\n",
    "\n",
    "* Analysis Plot\n",
    "\n",
    "|Station Analysis|\n",
    "|-----------|\n",
    "|<img src=\"Chart/Observation_Dist.png\" /> |\n",
    "\n",
    "\n",
    "## <span style=\"color:darkblue\">III - Trip Temperation Statistics</span>\n",
    "* Steps: \n",
    "    \n",
    "    * Use the function calc_temps to accept a start date and end date in the format %Y-%m-%d and return the minimum, average, and maximum temperatures for that range of dates.\n",
    "    * Use the function plot_prev_temps to plot the min, avg, and max temperature from your previous query as a bar chart.\n",
    "    \n",
    "* Analysis Plot\n",
    "\n",
    "|Trip Average Temperature|\n",
    "|-----------|\n",
    "|<img src=\"Chart/Trip_avg_temp.png\" /> |\n",
    "\n",
    "## <span style=\"color:darkblue\">IV - Rainfall Per Weather Station</span>\n",
    "* Steps: \n",
    "    \n",
    "    * Use the function calc_prev_rainfall to calculate the rainfall per weather station for your trip dates using the previous year's matching dates.\n",
    "\n",
    "## <span style=\"color:darkblue\">V - Trip Temperation Daily Normals</span>\n",
    "\n",
    "* Steps: \n",
    "    \n",
    "    * Create the daily_normals function that will calculate the daily normals for a specific date. This date string will be in the format %m-%d. \n",
    "    * Create a list of dates for your trip in the format %m-%d. \n",
    "    * Load the list of daily normals into a Pandas DataFrame and set the index equal to the date.\n",
    "    * Use Pandas to plot an area plot (stacked=False) for the daily normals.\n",
    "\n",
    "* Analysis Plot\n",
    "\n",
    "|Trip Daily Normals|\n",
    "|-----------|\n",
    "|<img src=\"Chart/Trip_daily_normals.png\" /> |\n"
   ]
  },
  {
   "cell_type": "markdown",
   "metadata": {},
   "source": [
    "# Dependencies"
   ]
  },
  {
   "cell_type": "code",
   "execution_count": 1,
   "metadata": {},
   "outputs": [],
   "source": [
    "%matplotlib inline\n",
    "from matplotlib import style\n",
    "style.use('fivethirtyeight')\n",
    "import matplotlib.pyplot as plt\n",
    "from matplotlib import cm"
   ]
  },
  {
   "cell_type": "code",
   "execution_count": 2,
   "metadata": {},
   "outputs": [],
   "source": [
    "import numpy as np\n",
    "import pandas as pd"
   ]
  },
  {
   "cell_type": "code",
   "execution_count": 3,
   "metadata": {},
   "outputs": [],
   "source": [
    "import datetime as dt\n",
    "from dateutil.relativedelta import relativedelta"
   ]
  },
  {
   "cell_type": "code",
   "execution_count": 4,
   "metadata": {},
   "outputs": [],
   "source": [
    "# Python SQL toolkit and Object Relational Mapper\n",
    "import sqlalchemy\n",
    "from sqlalchemy.ext.automap import automap_base\n",
    "from sqlalchemy.orm import Session\n",
    "from sqlalchemy import create_engine, func,inspect, and_, desc"
   ]
  },
  {
   "cell_type": "markdown",
   "metadata": {},
   "source": [
    "# Reflect Tables into SQLAlchemy ORM"
   ]
  },
  {
   "cell_type": "code",
   "execution_count": 5,
   "metadata": {},
   "outputs": [],
   "source": [
    "engine = create_engine(\"sqlite:///Resources/hawaii.sqlite\")"
   ]
  },
  {
   "cell_type": "code",
   "execution_count": 6,
   "metadata": {},
   "outputs": [],
   "source": [
    "# reflect an existing database into a new model\n",
    "Base = automap_base()\n",
    "# reflect the tables\n",
    "Base.prepare(engine, reflect=True)"
   ]
  },
  {
   "cell_type": "code",
   "execution_count": 7,
   "metadata": {},
   "outputs": [
    {
     "data": {
      "text/plain": [
       "['measurement', 'station']"
      ]
     },
     "execution_count": 7,
     "metadata": {},
     "output_type": "execute_result"
    }
   ],
   "source": [
    "# We can view all of the classes that automap found\n",
    "Base.classes.keys()"
   ]
  },
  {
   "cell_type": "code",
   "execution_count": 8,
   "metadata": {},
   "outputs": [],
   "source": [
    "# Save references to each table\n",
    "Measurement = Base.classes.measurement\n",
    "Station = Base.classes.station"
   ]
  },
  {
   "cell_type": "code",
   "execution_count": 9,
   "metadata": {},
   "outputs": [],
   "source": [
    "# Create our session (link) from Python to the DB\n",
    "session = Session(engine)"
   ]
  },
  {
   "cell_type": "markdown",
   "metadata": {},
   "source": [
    "# Exploratory Climate Analysis"
   ]
  },
  {
   "cell_type": "markdown",
   "metadata": {},
   "source": [
    "### Session Guideline\n",
    "* Design a query to retrieve the last 12 months of precipitation data and plot the results\n",
    "* Calculate the date 1 year ago from the last data point in the database\n",
    "* Perform a query to retrieve the data and precipitation scores\n",
    "* Save the query results as a Pandas DataFrame and set the index to the date column\n",
    "* Sort the dataframe by date\n",
    "* Use Pandas Plotting with Matplotlib to plot the data"
   ]
  },
  {
   "cell_type": "code",
   "execution_count": 10,
   "metadata": {},
   "outputs": [
    {
     "data": {
      "text/plain": [
       "(2724, 'USC00519397', '2017-08-23', 0.0, 81.0)"
      ]
     },
     "execution_count": 10,
     "metadata": {},
     "output_type": "execute_result"
    }
   ],
   "source": [
    "engine.execute(\"\"\"SELECT *\n",
    "                    FROM Measurement m\n",
    "                    GROUP BY 1\n",
    "                    ORDER BY date desc;\n",
    "                \"\"\").fetchall()[0]"
   ]
  },
  {
   "cell_type": "code",
   "execution_count": 11,
   "metadata": {},
   "outputs": [
    {
     "name": "stdout",
     "output_type": "stream",
     "text": [
      "id INTEGER\n",
      "station TEXT\n",
      "date TEXT\n",
      "prcp FLOAT\n",
      "tobs FLOAT\n"
     ]
    }
   ],
   "source": [
    "# The measurement column names\n",
    "inspector = inspect(engine)\n",
    "columns = inspector.get_columns('measurement')\n",
    "for column in columns:\n",
    "    print(column[\"name\"], column[\"type\"])"
   ]
  },
  {
   "cell_type": "code",
   "execution_count": 12,
   "metadata": {},
   "outputs": [
    {
     "name": "stdout",
     "output_type": "stream",
     "text": [
      "2017-08-23 00:00:00\n"
     ]
    }
   ],
   "source": [
    "# Retrieve the date of the last data point in the database \n",
    "last_date_string, = engine.execute(\"\"\"SELECT m.date\n",
    "                    FROM Measurement m\n",
    "                    GROUP BY 1\n",
    "                    ORDER BY date desc;\n",
    "                \"\"\").fetchall()[0]\n",
    "\n",
    "last_date = dt.datetime.strptime(last_date_string,'%Y-%m-%d')\n",
    "print(last_date)"
   ]
  },
  {
   "cell_type": "code",
   "execution_count": 13,
   "metadata": {},
   "outputs": [
    {
     "name": "stdout",
     "output_type": "stream",
     "text": [
      "2016-08-23 00:00:00\n"
     ]
    }
   ],
   "source": [
    "# Calculate the date 1 year ago from the last data point in the database\n",
    "one_year_before = last_date - relativedelta(years=1)\n",
    "print(one_year_before)"
   ]
  },
  {
   "cell_type": "code",
   "execution_count": 14,
   "metadata": {},
   "outputs": [
    {
     "data": {
      "text/html": [
       "<div>\n",
       "<style scoped>\n",
       "    .dataframe tbody tr th:only-of-type {\n",
       "        vertical-align: middle;\n",
       "    }\n",
       "\n",
       "    .dataframe tbody tr th {\n",
       "        vertical-align: top;\n",
       "    }\n",
       "\n",
       "    .dataframe thead th {\n",
       "        text-align: right;\n",
       "    }\n",
       "</style>\n",
       "<table border=\"1\" class=\"dataframe\">\n",
       "  <thead>\n",
       "    <tr style=\"text-align: right;\">\n",
       "      <th></th>\n",
       "      <th>date</th>\n",
       "      <th>prcp</th>\n",
       "    </tr>\n",
       "  </thead>\n",
       "  <tbody>\n",
       "    <tr>\n",
       "      <th>0</th>\n",
       "      <td>2016-08-24</td>\n",
       "      <td>0.08</td>\n",
       "    </tr>\n",
       "    <tr>\n",
       "      <th>1</th>\n",
       "      <td>2016-08-24</td>\n",
       "      <td>2.15</td>\n",
       "    </tr>\n",
       "    <tr>\n",
       "      <th>2</th>\n",
       "      <td>2016-08-24</td>\n",
       "      <td>2.28</td>\n",
       "    </tr>\n",
       "    <tr>\n",
       "      <th>3</th>\n",
       "      <td>2016-08-24</td>\n",
       "      <td>NaN</td>\n",
       "    </tr>\n",
       "    <tr>\n",
       "      <th>4</th>\n",
       "      <td>2016-08-24</td>\n",
       "      <td>1.22</td>\n",
       "    </tr>\n",
       "  </tbody>\n",
       "</table>\n",
       "</div>"
      ],
      "text/plain": [
       "         date  prcp\n",
       "0  2016-08-24  0.08\n",
       "1  2016-08-24  2.15\n",
       "2  2016-08-24  2.28\n",
       "3  2016-08-24   NaN\n",
       "4  2016-08-24  1.22"
      ]
     },
     "execution_count": 14,
     "metadata": {},
     "output_type": "execute_result"
    }
   ],
   "source": [
    "# Extract the date and precipitation data, order by date. \n",
    "precipitation_df_raw = pd.DataFrame(session.query(Measurement.date,Measurement.prcp).\\\n",
    "                                filter(Measurement.date>=one_year_before).order_by(Measurement.date).all())\n",
    "precipitation_df_raw.head()"
   ]
  },
  {
   "cell_type": "code",
   "execution_count": 15,
   "metadata": {},
   "outputs": [
    {
     "data": {
      "text/html": [
       "<div>\n",
       "<style scoped>\n",
       "    .dataframe tbody tr th:only-of-type {\n",
       "        vertical-align: middle;\n",
       "    }\n",
       "\n",
       "    .dataframe tbody tr th {\n",
       "        vertical-align: top;\n",
       "    }\n",
       "\n",
       "    .dataframe thead th {\n",
       "        text-align: right;\n",
       "    }\n",
       "</style>\n",
       "<table border=\"1\" class=\"dataframe\">\n",
       "  <thead>\n",
       "    <tr style=\"text-align: right;\">\n",
       "      <th></th>\n",
       "      <th>date</th>\n",
       "      <th>precipitation</th>\n",
       "    </tr>\n",
       "  </thead>\n",
       "  <tbody>\n",
       "    <tr>\n",
       "      <th>0</th>\n",
       "      <td>2016-08-24</td>\n",
       "      <td>1.555000</td>\n",
       "    </tr>\n",
       "    <tr>\n",
       "      <th>1</th>\n",
       "      <td>2016-08-25</td>\n",
       "      <td>0.077143</td>\n",
       "    </tr>\n",
       "    <tr>\n",
       "      <th>2</th>\n",
       "      <td>2016-08-26</td>\n",
       "      <td>0.016667</td>\n",
       "    </tr>\n",
       "    <tr>\n",
       "      <th>3</th>\n",
       "      <td>2016-08-27</td>\n",
       "      <td>0.064000</td>\n",
       "    </tr>\n",
       "    <tr>\n",
       "      <th>4</th>\n",
       "      <td>2016-08-28</td>\n",
       "      <td>0.516667</td>\n",
       "    </tr>\n",
       "  </tbody>\n",
       "</table>\n",
       "</div>"
      ],
      "text/plain": [
       "         date  precipitation\n",
       "0  2016-08-24       1.555000\n",
       "1  2016-08-25       0.077143\n",
       "2  2016-08-26       0.016667\n",
       "3  2016-08-27       0.064000\n",
       "4  2016-08-28       0.516667"
      ]
     },
     "execution_count": 15,
     "metadata": {},
     "output_type": "execute_result"
    }
   ],
   "source": [
    "# Clean up the data and calculate the precipitation mean grouped by date.\n",
    "precipitation_df_clean = precipitation_df_raw.dropna(how='any')\n",
    "precipitation_df_agg = precipitation_df_clean.groupby('date').mean().reset_index()\n",
    "precipitation_df_agg.rename(columns={'prcp':'precipitation'},inplace=True)\n",
    "precipitation_df_agg.head()"
   ]
  },
  {
   "cell_type": "code",
   "execution_count": 16,
   "metadata": {},
   "outputs": [],
   "source": [
    "date_label = []\n",
    "\n",
    "for row_index,row in precipitation_df_agg.iterrows():\n",
    "    if row_index % 10 == 0:\n",
    "        date_label.append(row['date'])"
   ]
  },
  {
   "cell_type": "code",
   "execution_count": 17,
   "metadata": {},
   "outputs": [
    {
     "data": {
      "image/png": "[encoded data removed]",
      "text/plain": [
       "<Figure size 864x576 with 1 Axes>"
      ]
     },
     "metadata": {
      "needs_background": "light"
     },
     "output_type": "display_data"
    }
   ],
   "source": [
    "plt.figure(figsize=(12,8))\n",
    "plt.plot('date','precipitation',data=precipitation_df_agg)\n",
    "\n",
    "plt.legend(loc=2)\n",
    "plt.grid(True)\n",
    "plt.ylabel(\"Inches\")\n",
    "plt.xticks(np.arange(0,len(precipitation_df_agg),step=10),date_label,rotation=45,ha='right')\n",
    "plt.title('Precipitation by Time')\n",
    "\n",
    "plt.savefig(\"Chart/Prcp_by_time.png\")"
   ]
  },
  {
   "cell_type": "code",
   "execution_count": 18,
   "metadata": {},
   "outputs": [
    {
     "data": {
      "text/html": [
       "<div>\n",
       "<style scoped>\n",
       "    .dataframe tbody tr th:only-of-type {\n",
       "        vertical-align: middle;\n",
       "    }\n",
       "\n",
       "    .dataframe tbody tr th {\n",
       "        vertical-align: top;\n",
       "    }\n",
       "\n",
       "    .dataframe thead th {\n",
       "        text-align: right;\n",
       "    }\n",
       "</style>\n",
       "<table border=\"1\" class=\"dataframe\">\n",
       "  <thead>\n",
       "    <tr style=\"text-align: right;\">\n",
       "      <th></th>\n",
       "      <th>precipitation</th>\n",
       "    </tr>\n",
       "  </thead>\n",
       "  <tbody>\n",
       "    <tr>\n",
       "      <th>count</th>\n",
       "      <td>365.000000</td>\n",
       "    </tr>\n",
       "    <tr>\n",
       "      <th>mean</th>\n",
       "      <td>0.169987</td>\n",
       "    </tr>\n",
       "    <tr>\n",
       "      <th>std</th>\n",
       "      <td>0.295722</td>\n",
       "    </tr>\n",
       "    <tr>\n",
       "      <th>min</th>\n",
       "      <td>0.000000</td>\n",
       "    </tr>\n",
       "    <tr>\n",
       "      <th>25%</th>\n",
       "      <td>0.008571</td>\n",
       "    </tr>\n",
       "    <tr>\n",
       "      <th>50%</th>\n",
       "      <td>0.070000</td>\n",
       "    </tr>\n",
       "    <tr>\n",
       "      <th>75%</th>\n",
       "      <td>0.191667</td>\n",
       "    </tr>\n",
       "    <tr>\n",
       "      <th>max</th>\n",
       "      <td>2.380000</td>\n",
       "    </tr>\n",
       "  </tbody>\n",
       "</table>\n",
       "</div>"
      ],
      "text/plain": [
       "       precipitation\n",
       "count     365.000000\n",
       "mean        0.169987\n",
       "std         0.295722\n",
       "min         0.000000\n",
       "25%         0.008571\n",
       "50%         0.070000\n",
       "75%         0.191667\n",
       "max         2.380000"
      ]
     },
     "execution_count": 18,
     "metadata": {},
     "output_type": "execute_result"
    }
   ],
   "source": [
    "# Summary of Precipitation Data\n",
    "precipitation_df_agg.describe()"
   ]
  },
  {
   "cell_type": "markdown",
   "metadata": {},
   "source": [
    "# Station Analysis"
   ]
  },
  {
   "cell_type": "code",
   "execution_count": 19,
   "metadata": {},
   "outputs": [
    {
     "name": "stdout",
     "output_type": "stream",
     "text": [
      "id INTEGER\n",
      "station TEXT\n",
      "name TEXT\n",
      "latitude FLOAT\n",
      "longitude FLOAT\n",
      "elevation FLOAT\n"
     ]
    }
   ],
   "source": [
    "# The station column names\n",
    "inspector = inspect(engine)\n",
    "columns = inspector.get_columns('station')\n",
    "for column in columns:\n",
    "    print(column[\"name\"], column[\"type\"])"
   ]
  },
  {
   "cell_type": "code",
   "execution_count": 20,
   "metadata": {},
   "outputs": [
    {
     "data": {
      "text/plain": [
       "9"
      ]
     },
     "execution_count": 20,
     "metadata": {},
     "output_type": "execute_result"
    }
   ],
   "source": [
    "# Design a query to show how many stations are available in this dataset?\n",
    "num_stations = session.query(Station.id).count()\n",
    "num_stations"
   ]
  },
  {
   "cell_type": "code",
   "execution_count": 21,
   "metadata": {},
   "outputs": [
    {
     "name": "stdout",
     "output_type": "stream",
     "text": [
      "The most active station is USC00519281 with 2772 of observations\n"
     ]
    }
   ],
   "source": [
    "# What are the most active stations? (i.e. what stations have the most rows)?\n",
    "station_tobs_count = session.query(Measurement.station,func.count(Measurement.tobs)).\\\n",
    "                group_by(Measurement.station).order_by(func.count(Measurement.tobs).desc()).all()\n",
    "active_station = station_tobs_count[0][0]\n",
    "print(f\"The most active station is {active_station} with {station_tobs_count[0][1]} of observations\")"
   ]
  },
  {
   "cell_type": "code",
   "execution_count": 22,
   "metadata": {},
   "outputs": [
    {
     "name": "stdout",
     "output_type": "stream",
     "text": [
      "The lowest temperature observed is 54.0, the highest temperature observed is 85.0 and average temperature observed is 71.66378066378067\n"
     ]
    }
   ],
   "source": [
    "# Using the station id from the previous query, calculate the lowest temperature recorded, \n",
    "# highest temperature recorded, and average temperature for most active station?\n",
    "\n",
    "tem_min, temp_max, temp_avg = session.query(func.min(Measurement.tobs),func.max(Measurement.tobs),func.avg(Measurement.tobs)).\\\n",
    "                filter(Measurement.station==active_station).all()[0]\n",
    "print (f\"The lowest temperature observed is {tem_min}, the highest temperature observed is {temp_max} and average temperature observed is {temp_avg}\")"
   ]
  },
  {
   "cell_type": "code",
   "execution_count": 23,
   "metadata": {},
   "outputs": [
    {
     "data": {
      "text/html": [
       "<div>\n",
       "<style scoped>\n",
       "    .dataframe tbody tr th:only-of-type {\n",
       "        vertical-align: middle;\n",
       "    }\n",
       "\n",
       "    .dataframe tbody tr th {\n",
       "        vertical-align: top;\n",
       "    }\n",
       "\n",
       "    .dataframe thead th {\n",
       "        text-align: right;\n",
       "    }\n",
       "</style>\n",
       "<table border=\"1\" class=\"dataframe\">\n",
       "  <thead>\n",
       "    <tr style=\"text-align: right;\">\n",
       "      <th></th>\n",
       "      <th>station</th>\n",
       "      <th>date</th>\n",
       "      <th>tobs</th>\n",
       "    </tr>\n",
       "  </thead>\n",
       "  <tbody>\n",
       "    <tr>\n",
       "      <th>0</th>\n",
       "      <td>USC00519281</td>\n",
       "      <td>2017-02-02</td>\n",
       "      <td>59.0</td>\n",
       "    </tr>\n",
       "    <tr>\n",
       "      <th>1</th>\n",
       "      <td>USC00519281</td>\n",
       "      <td>2017-02-08</td>\n",
       "      <td>59.0</td>\n",
       "    </tr>\n",
       "    <tr>\n",
       "      <th>2</th>\n",
       "      <td>USC00519281</td>\n",
       "      <td>2017-02-09</td>\n",
       "      <td>59.0</td>\n",
       "    </tr>\n",
       "    <tr>\n",
       "      <th>3</th>\n",
       "      <td>USC00519281</td>\n",
       "      <td>2017-02-03</td>\n",
       "      <td>60.0</td>\n",
       "    </tr>\n",
       "    <tr>\n",
       "      <th>4</th>\n",
       "      <td>USC00519281</td>\n",
       "      <td>2017-04-30</td>\n",
       "      <td>60.0</td>\n",
       "    </tr>\n",
       "  </tbody>\n",
       "</table>\n",
       "</div>"
      ],
      "text/plain": [
       "       station        date  tobs\n",
       "0  USC00519281  2017-02-02  59.0\n",
       "1  USC00519281  2017-02-08  59.0\n",
       "2  USC00519281  2017-02-09  59.0\n",
       "3  USC00519281  2017-02-03  60.0\n",
       "4  USC00519281  2017-04-30  60.0"
      ]
     },
     "execution_count": 23,
     "metadata": {},
     "output_type": "execute_result"
    }
   ],
   "source": [
    "# Choose the station with the highest number of temperature observations.\n",
    "# Query the last 12 months of temperature observation data for this station and plot the results as a histogram\n",
    "active_station_tobs = session.query(Measurement.station,Measurement.date,Measurement.tobs).\\\n",
    "            filter(and_(Measurement.date>=one_year_before,Measurement.station==active_station)).order_by(Measurement.tobs).all()\n",
    "\n",
    "active_station_tobs_df = pd.DataFrame(data = active_station_tobs,columns=[\"station\",\"date\",\"tobs\"])\n",
    "active_station_tobs_df.head()"
   ]
  },
  {
   "cell_type": "code",
   "execution_count": 24,
   "metadata": {},
   "outputs": [
    {
     "data": {
      "image/png": "[encoded data removed]",
      "text/plain": [
       "<Figure size 864x576 with 1 Axes>"
      ]
     },
     "metadata": {
      "needs_background": "light"
     },
     "output_type": "display_data"
    }
   ],
   "source": [
    "# Plot the results as a histogram with bins=12\n",
    "plt.figure(figsize=(12,8))\n",
    "\n",
    "plt.hist('tobs',data = active_station_tobs_df, bins=12)\n",
    "\n",
    "plt.legend([\"tobs\"])\n",
    "\n",
    "plt.title('Observation Distribution of the most Active Station')\n",
    "plt.ylabel(\"Observation Count\")\n",
    "\n",
    "plt.grid(True)\n",
    "\n",
    "plt.savefig(\"Chart/Observation_Dist.png\")"
   ]
  },
  {
   "cell_type": "markdown",
   "metadata": {},
   "source": [
    "## Temperature Analysis (Optional)"
   ]
  },
  {
   "cell_type": "code",
   "execution_count": 25,
   "metadata": {},
   "outputs": [
    {
     "name": "stdout",
     "output_type": "stream",
     "text": [
      "(62.0, 69.57142857142857, 74.0)\n"
     ]
    }
   ],
   "source": [
    "# This function called `calc_temps` will accept start date and end date in the format '%Y-%m-%d' \n",
    "# and return the minimum, average, and maximum temperatures for that range of dates\n",
    "def calc_temps(start_date, end_date):\n",
    "    \"\"\"TMIN, TAVG, and TMAX for a list of dates.\n",
    "    \n",
    "    Args:\n",
    "        start_date (string): A date string in the format %Y-%m-%d\n",
    "        end_date (string): A date string in the format %Y-%m-%d\n",
    "        \n",
    "    Returns:\n",
    "        TMIN, TAVE, and TMAX\n",
    "    \"\"\"\n",
    "    \n",
    "    return session.query(func.min(Measurement.tobs), func.avg(Measurement.tobs), func.max(Measurement.tobs)).\\\n",
    "        filter(Measurement.date >= start_date).filter(Measurement.date <= end_date).all()[0]\n",
    "\n",
    "# function usage example\n",
    "print(calc_temps('2012-02-28', '2012-03-05'))"
   ]
  },
  {
   "cell_type": "code",
   "execution_count": 26,
   "metadata": {},
   "outputs": [],
   "source": [
    "\"\"\" Use your previous function `calc_temps` to calculate the tmin, tavg, and tmax \n",
    "    for your trip using the previous year's data for those same dates. \n",
    "    Then plot the error bar\"\"\"\n",
    "    \n",
    "def plot_prev_temps (trip_start_date,trip_end_date):\n",
    "    \n",
    "    prev_trip_start_date = dt.datetime.strptime(trip_start_date,'%Y-%m-%d') - relativedelta(years=1)\n",
    "    \n",
    "    prev_trip_end_date = dt.datetime.strptime(trip_end_date,'%Y-%m-%d') - relativedelta(years=1)\n",
    "    \n",
    "    temp_min,temp_avg, temp_max = session.query(func.min(Measurement.tobs), func.avg(Measurement.tobs), func.max(Measurement.tobs)).\\\n",
    "        filter(and_(Measurement.date >= prev_trip_start_date,Measurement.date <= prev_trip_end_date)).all()[0]\n",
    "    \n",
    "    # Plotting\n",
    "    yerror = temp_max - temp_min\n",
    "\n",
    "    barvalue = [temp_avg]\n",
    "    xvals = range(len(barvalue))\n",
    "\n",
    "    fig,ax = plt.subplots(figsize=(5,8))\n",
    "    ax.bar(xvals, barvalue, yerr=yerror, color='C2',alpha=0.6)\n",
    "    ax.set_xticks([1]) \n",
    "    plt.ylabel(\"Temperature\")\n",
    "    plt.title(f\"Trip Average Temperature: {trip_start_date} --> {trip_end_date}\")\n",
    "    plt.tight_layout()\n",
    "\n",
    "    plt.savefig(\"Chart/Trip_avg_temp.png\")"
   ]
  },
  {
   "cell_type": "code",
   "execution_count": 27,
   "metadata": {},
   "outputs": [
    {
     "data": {
      "image/png": "[encoded data removed]",
      "text/plain": [
       "<Figure size 360x576 with 1 Axes>"
      ]
     },
     "metadata": {
      "needs_background": "light"
     },
     "output_type": "display_data"
    }
   ],
   "source": [
    "# Try a certain trip period\n",
    "trip_start_date = '2018-06-01'\n",
    "trip_end_date = '2018-09-01'\n",
    "plot_prev_temps (trip_start_date,trip_end_date)"
   ]
  },
  {
   "cell_type": "markdown",
   "metadata": {},
   "source": [
    "## Optional Challenge Assignment - Rainfall Per Station"
   ]
  },
  {
   "cell_type": "code",
   "execution_count": 28,
   "metadata": {},
   "outputs": [],
   "source": [
    "# Calculate the rainfall per weather station for your trip dates using the previous year's matching dates.\n",
    "# Sort this in descending order by precipitation amount and list the station, name, latitude, longitude, and elevation\n",
    "\n",
    "def calc_prev_rainfall(trip_start_date,trip_end_date):\n",
    "    \n",
    "    prev_trip_start_date = dt.datetime.strptime(trip_start_date,'%Y-%m-%d') - relativedelta(years=1)\n",
    "    prev_trip_end_date = dt.datetime.strptime(trip_end_date,'%Y-%m-%d') - relativedelta(years=1)\n",
    "    \n",
    "    rainfall_per_station = session.query(Station.name,Station.station,Station.latitude,Station.longitude,Station.elevation,func.avg(Measurement.prcp)).\\\n",
    "                    filter(Measurement.station == Station.station).filter(and_(Measurement.date >= prev_trip_start_date,\\\n",
    "                    Measurement.date <= prev_trip_end_date)).\\\n",
    "                    group_by(Station.station).order_by(desc(func.avg(Measurement.prcp)))\n",
    "    \n",
    "    result_dict = []\n",
    "    for result in rainfall_per_station:\n",
    "        result_dict.append(result)\n",
    "\n",
    "    rainfall_per_station_df = pd.DataFrame(data=result_dict,columns=['name','station','lat','lon','elevation','avg_precipitation'])\n",
    "       \n",
    "    return rainfall_per_station_df"
   ]
  },
  {
   "cell_type": "code",
   "execution_count": 29,
   "metadata": {},
   "outputs": [
    {
     "data": {
      "text/html": [
       "<div>\n",
       "<style scoped>\n",
       "    .dataframe tbody tr th:only-of-type {\n",
       "        vertical-align: middle;\n",
       "    }\n",
       "\n",
       "    .dataframe tbody tr th {\n",
       "        vertical-align: top;\n",
       "    }\n",
       "\n",
       "    .dataframe thead th {\n",
       "        text-align: right;\n",
       "    }\n",
       "</style>\n",
       "<table border=\"1\" class=\"dataframe\">\n",
       "  <thead>\n",
       "    <tr style=\"text-align: right;\">\n",
       "      <th></th>\n",
       "      <th>name</th>\n",
       "      <th>station</th>\n",
       "      <th>lat</th>\n",
       "      <th>lon</th>\n",
       "      <th>elevation</th>\n",
       "      <th>avg_precipitation</th>\n",
       "    </tr>\n",
       "  </thead>\n",
       "  <tbody>\n",
       "    <tr>\n",
       "      <th>0</th>\n",
       "      <td>MANOA LYON ARBO 785.2, HI US</td>\n",
       "      <td>USC00516128</td>\n",
       "      <td>21.33310</td>\n",
       "      <td>-157.80250</td>\n",
       "      <td>152.4</td>\n",
       "      <td>0.356105</td>\n",
       "    </tr>\n",
       "    <tr>\n",
       "      <th>1</th>\n",
       "      <td>WAIHEE 837.5, HI US</td>\n",
       "      <td>USC00519281</td>\n",
       "      <td>21.45167</td>\n",
       "      <td>-157.84889</td>\n",
       "      <td>32.9</td>\n",
       "      <td>0.222698</td>\n",
       "    </tr>\n",
       "    <tr>\n",
       "      <th>2</th>\n",
       "      <td>KANEOHE 838.1, HI US</td>\n",
       "      <td>USC00513117</td>\n",
       "      <td>21.42340</td>\n",
       "      <td>-157.80150</td>\n",
       "      <td>14.6</td>\n",
       "      <td>0.187389</td>\n",
       "    </tr>\n",
       "    <tr>\n",
       "      <th>3</th>\n",
       "      <td>WAIMANALO EXPERIMENTAL FARM, HI US</td>\n",
       "      <td>USC00519523</td>\n",
       "      <td>21.33556</td>\n",
       "      <td>-157.71139</td>\n",
       "      <td>19.5</td>\n",
       "      <td>0.155765</td>\n",
       "    </tr>\n",
       "    <tr>\n",
       "      <th>4</th>\n",
       "      <td>KUALOA RANCH HEADQUARTERS 886.9, HI US</td>\n",
       "      <td>USC00514830</td>\n",
       "      <td>21.52130</td>\n",
       "      <td>-157.83740</td>\n",
       "      <td>7.0</td>\n",
       "      <td>0.145793</td>\n",
       "    </tr>\n",
       "    <tr>\n",
       "      <th>5</th>\n",
       "      <td>PEARL CITY, HI US</td>\n",
       "      <td>USC00517948</td>\n",
       "      <td>21.39340</td>\n",
       "      <td>-157.97510</td>\n",
       "      <td>11.9</td>\n",
       "      <td>0.092778</td>\n",
       "    </tr>\n",
       "    <tr>\n",
       "      <th>6</th>\n",
       "      <td>WAIKIKI 717.2, HI US</td>\n",
       "      <td>USC00519397</td>\n",
       "      <td>21.27160</td>\n",
       "      <td>-157.81680</td>\n",
       "      <td>3.0</td>\n",
       "      <td>0.051768</td>\n",
       "    </tr>\n",
       "  </tbody>\n",
       "</table>\n",
       "</div>"
      ],
      "text/plain": [
       "                                     name      station       lat        lon  \\\n",
       "0            MANOA LYON ARBO 785.2, HI US  USC00516128  21.33310 -157.80250   \n",
       "1                     WAIHEE 837.5, HI US  USC00519281  21.45167 -157.84889   \n",
       "2                    KANEOHE 838.1, HI US  USC00513117  21.42340 -157.80150   \n",
       "3      WAIMANALO EXPERIMENTAL FARM, HI US  USC00519523  21.33556 -157.71139   \n",
       "4  KUALOA RANCH HEADQUARTERS 886.9, HI US  USC00514830  21.52130 -157.83740   \n",
       "5                       PEARL CITY, HI US  USC00517948  21.39340 -157.97510   \n",
       "6                    WAIKIKI 717.2, HI US  USC00519397  21.27160 -157.81680   \n",
       "\n",
       "   elevation  avg_precipitation  \n",
       "0      152.4           0.356105  \n",
       "1       32.9           0.222698  \n",
       "2       14.6           0.187389  \n",
       "3       19.5           0.155765  \n",
       "4        7.0           0.145793  \n",
       "5       11.9           0.092778  \n",
       "6        3.0           0.051768  "
      ]
     },
     "execution_count": 29,
     "metadata": {},
     "output_type": "execute_result"
    }
   ],
   "source": [
    "# Try a certain trip period\n",
    "trip_start_date = '2018-02-01'\n",
    "trip_end_date = '2018-09-01'\n",
    "rainfall_per_station_df = calc_prev_rainfall(trip_start_date,trip_end_date)\n",
    "\n",
    "rainfall_per_station_df"
   ]
  },
  {
   "cell_type": "markdown",
   "metadata": {},
   "source": [
    "## Optional Challenge Assignment - Temperature Daily Normal"
   ]
  },
  {
   "cell_type": "markdown",
   "metadata": {},
   "source": [
    "### Guideline\n",
    "#### calculate the daily normals for your trip\n",
    "* push each tuple of calculations into a list called `normals`\n",
    "* Set the start and end date of the trip\n",
    "* Use the start and end date to create a range of dates\n",
    "* Stip off the year and save a list of %m-%d strings\n",
    "* Loop through the list of %m-%d strings and calculate the normals for each date\n",
    "\n",
    "#### Analysis and Plot\n",
    "* Load the previous query results into a Pandas DataFrame and add the `trip_dates` range as the `date` index\n",
    "* Plot the daily normals as an area plot with `stacked=False`"
   ]
  },
  {
   "cell_type": "code",
   "execution_count": 34,
   "metadata": {},
   "outputs": [],
   "source": [
    "# Create a query that will calculate the daily normals \n",
    "# (i.e. the averages for tmin, tmax, and tavg for all historic data matching a specific month and day)\n",
    "\n",
    "def daily_normals(trip_start_date,trip_end_date):\n",
    "    \"\"\"Daily Normals.\n",
    "    \n",
    "    Args:\n",
    "        date (str): A date string in the format '%m-%d'\n",
    "        \n",
    "    Returns:\n",
    "        A list of tuples containing the daily normals, tmin, tavg, and tmax\n",
    "    \n",
    "    \"\"\"\n",
    "    prev_trip_start_date = dt.datetime.strptime(trip_start_date,'%Y-%m-%d') - relativedelta(years=1)\n",
    "    prev_trip_end_date = dt.datetime.strptime(trip_end_date,'%Y-%m-%d') - relativedelta(years=1)\n",
    "    \n",
    "    trip_date_all = session.query(Measurement.date).\\\n",
    "                    filter(and_(Measurement.date >= prev_trip_start_date,\\\n",
    "                    Measurement.date <= prev_trip_end_date)).distinct()\n",
    "\n",
    "    daily_normals_dict = []\n",
    "    \n",
    "    for date, in trip_date_all:\n",
    "    \n",
    "        month_day = date.split('-', maxsplit=1)[1]\n",
    "\n",
    "        temp_max,temp_min,temp_avg = session.query(func.max(Measurement.tobs),func.min(Measurement.tobs),\\\n",
    "                        func.avg(Measurement.tobs)).filter(Measurement.date.like(\"%\"+month_day)).all()[0]\n",
    "\n",
    "        daily_normals_dict.append({'date':month_day,'max_temp':temp_max,'min_temp':temp_min,'avg_temp':temp_avg})\n",
    "        \n",
    "    daily_normals_df = pd.DataFrame(daily_normals_dict).set_index('date')\n",
    "    \n",
    "    return daily_normals_df"
   ]
  },
  {
   "cell_type": "code",
   "execution_count": 35,
   "metadata": {},
   "outputs": [
    {
     "data": {
      "text/html": [
       "<div>\n",
       "<style scoped>\n",
       "    .dataframe tbody tr th:only-of-type {\n",
       "        vertical-align: middle;\n",
       "    }\n",
       "\n",
       "    .dataframe tbody tr th {\n",
       "        vertical-align: top;\n",
       "    }\n",
       "\n",
       "    .dataframe thead th {\n",
       "        text-align: right;\n",
       "    }\n",
       "</style>\n",
       "<table border=\"1\" class=\"dataframe\">\n",
       "  <thead>\n",
       "    <tr style=\"text-align: right;\">\n",
       "      <th></th>\n",
       "      <th>avg_temp</th>\n",
       "      <th>max_temp</th>\n",
       "      <th>min_temp</th>\n",
       "    </tr>\n",
       "    <tr>\n",
       "      <th>date</th>\n",
       "      <th></th>\n",
       "      <th></th>\n",
       "      <th></th>\n",
       "    </tr>\n",
       "  </thead>\n",
       "  <tbody>\n",
       "    <tr>\n",
       "      <th>02-02</th>\n",
       "      <td>68.859649</td>\n",
       "      <td>77.0</td>\n",
       "      <td>59.0</td>\n",
       "    </tr>\n",
       "    <tr>\n",
       "      <th>02-03</th>\n",
       "      <td>67.796610</td>\n",
       "      <td>77.0</td>\n",
       "      <td>58.0</td>\n",
       "    </tr>\n",
       "    <tr>\n",
       "      <th>02-04</th>\n",
       "      <td>68.140351</td>\n",
       "      <td>76.0</td>\n",
       "      <td>61.0</td>\n",
       "    </tr>\n",
       "    <tr>\n",
       "      <th>02-05</th>\n",
       "      <td>69.684211</td>\n",
       "      <td>80.0</td>\n",
       "      <td>59.0</td>\n",
       "    </tr>\n",
       "    <tr>\n",
       "      <th>02-06</th>\n",
       "      <td>70.389831</td>\n",
       "      <td>77.0</td>\n",
       "      <td>58.0</td>\n",
       "    </tr>\n",
       "  </tbody>\n",
       "</table>\n",
       "</div>"
      ],
      "text/plain": [
       "        avg_temp  max_temp  min_temp\n",
       "date                                \n",
       "02-02  68.859649      77.0      59.0\n",
       "02-03  67.796610      77.0      58.0\n",
       "02-04  68.140351      76.0      61.0\n",
       "02-05  69.684211      80.0      59.0\n",
       "02-06  70.389831      77.0      58.0"
      ]
     },
     "execution_count": 35,
     "metadata": {},
     "output_type": "execute_result"
    }
   ],
   "source": [
    "# Load the previous query results into a Pandas DataFrame and add the `trip_dates` range as the `date` index\n",
    "trip_start_date = '2018-02-01'\n",
    "trip_end_date = '2018-09-01'\n",
    "daily_normals_df = daily_normals(trip_start_date,trip_end_date)\n",
    "\n",
    "daily_normals_df.head()"
   ]
  },
  {
   "cell_type": "code",
   "execution_count": 38,
   "metadata": {},
   "outputs": [],
   "source": [
    "date_label = []\n",
    "count = 0\n",
    "for row_index,row in daily_normals_df.iterrows():\n",
    "    if count % 10 == 0:\n",
    "        date_label.append(row_index)\n",
    "    count += 1"
   ]
  },
  {
   "cell_type": "code",
   "execution_count": 39,
   "metadata": {},
   "outputs": [
    {
     "data": {
      "image/png": "[encoded data removed]",
      "text/plain": [
       "<Figure size 1080x720 with 1 Axes>"
      ]
     },
     "metadata": {
      "needs_background": "light"
     },
     "output_type": "display_data"
    }
   ],
   "source": [
    "# Plot the daily normals as an area plot with `stacked=False`\n",
    "daily_normals_df.plot(kind='area',stacked=False,figsize=(15,10),alpha=0.50,cmap = cm.get_cmap('Paired'))\n",
    "\n",
    "plt.xticks(np.arange(0,len(daily_normals_df),step=10),date_label,rotation=45,ha='right')\n",
    "\n",
    "plt.xlabel(\"Month_Day\")\n",
    "plt.ylabel(\"Temperature\")\n",
    "plt.title(f\"Trip Daily Normals: {trip_start_date} --> {trip_end_date}\")\n",
    "plt.xticks(rotation=45)\n",
    "plt.tight_layout()\n",
    "\n",
    "plt.savefig(\"Chart/Trip_daily_normals.png\")"
   ]
  }
 ],
 "metadata": {
  "kernel_info": {
   "name": "python3"
  },
  "kernelspec": {
   "display_name": "Python 3",
   "language": "python",
   "name": "python3"
  },
  "language_info": {
   "codemirror_mode": {
    "name": "ipython",
    "version": 3
   },
   "file_extension": ".py",
   "mimetype": "text/x-python",
   "name": "python",
   "nbconvert_exporter": "python",
   "pygments_lexer": "ipython3",
   "version": "3.6.6"
  },
  "nteract": {
   "version": "0.9.1"
  },
  "varInspector": {
   "cols": {
    "lenName": 16,
    "lenType": 16,
    "lenVar": 40
   },
   "kernels_config": {
    "python": {
     "delete_cmd_postfix": "",
     "delete_cmd_prefix": "del ",
     "library": "var_list.py",
     "varRefreshCmd": "print(var_dic_list())"
    },
    "r": {
     "delete_cmd_postfix": ") ",
     "delete_cmd_prefix": "rm(",
     "library": "var_list.r",
     "varRefreshCmd": "cat(var_dic_list()) "
    }
   },
   "types_to_exclude": [
    "module",
    "function",
    "builtin_function_or_method",
    "instance",
    "_Feature"
   ],
   "window_display": false
  }
 },
 "nbformat": 4,
 "nbformat_minor": 2
}
